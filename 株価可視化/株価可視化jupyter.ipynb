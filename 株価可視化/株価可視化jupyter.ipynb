{
 "cells": [
  {
   "cell_type": "code",
   "execution_count": 1,
   "metadata": {
    "collapsed": true
   },
   "outputs": [],
   "source": [
    "import pandas as pd\n",
    "import matplotlib.pyplot as plt\n",
    "import yfinance as yf\n",
    "\n",
    "%matplotlib inline"
   ]
  },
  {
   "cell_type": "code",
   "execution_count": 2,
   "outputs": [],
   "source": [
    "aapl = yf.Ticker('AAPL')"
   ],
   "metadata": {
    "collapsed": false,
    "pycharm": {
     "name": "#%%\n"
    }
   }
  },
  {
   "cell_type": "code",
   "execution_count": 3,
   "outputs": [
    {
     "data": {
      "text/plain": "                  Open        High         Low       Close     Volume  \\\nDate                                                                    \n2021-05-03  131.816094  133.842666  131.606459  132.315247   75135100   \n2021-05-04  130.967542  131.267036  126.485150  127.633202  137564700   \n2021-05-05  128.980915  130.228796  127.753005  127.882790   84000900   \n2021-05-06  127.673135  129.529982  126.914422  129.520004   78128300   \n2021-05-07  130.850006  131.259995  129.479996  130.210007   78892700   \n2021-05-10  129.410004  129.539993  126.809998  126.849998   88071200   \n2021-05-11  123.500000  126.269997  122.769997  125.910004  126142800   \n2021-05-12  123.400002  124.639999  122.250000  122.769997  112172300   \n2021-05-13  124.580002  126.150002  124.260002  124.970001  105861300   \n2021-05-14  126.250000  127.889999  125.849998  127.449997   81806500   \n2021-05-17  126.820000  126.930000  125.169998  126.269997   74244600   \n2021-05-18  126.559998  126.989998  124.779999  124.849998   63342900   \n2021-05-19  123.160004  124.919998  122.860001  124.690002   92612000   \n2021-05-20  125.230003  127.720001  125.099998  127.309998   76857100   \n2021-05-21  127.820000  128.000000  125.209999  125.430000   79209300   \n2021-05-24  126.010002  127.940002  125.940002  127.099998   63092900   \n2021-05-25  127.820000  128.320007  126.320000  126.900002   72009500   \n2021-05-26  126.959999  127.389999  126.419998  126.849998   56575900   \n2021-05-27  126.440002  127.639999  125.080002  125.279999   94625600   \n2021-05-28  125.570000  125.800003  124.550003  124.610001   71232700   \n\n            Dividends  Stock Splits  \nDate                                 \n2021-05-03       0.00             0  \n2021-05-04       0.00             0  \n2021-05-05       0.00             0  \n2021-05-06       0.00             0  \n2021-05-07       0.22             0  \n2021-05-10       0.00             0  \n2021-05-11       0.00             0  \n2021-05-12       0.00             0  \n2021-05-13       0.00             0  \n2021-05-14       0.00             0  \n2021-05-17       0.00             0  \n2021-05-18       0.00             0  \n2021-05-19       0.00             0  \n2021-05-20       0.00             0  \n2021-05-21       0.00             0  \n2021-05-24       0.00             0  \n2021-05-25       0.00             0  \n2021-05-26       0.00             0  \n2021-05-27       0.00             0  \n2021-05-28       0.00             0  ",
      "text/html": "<div>\n<style scoped>\n    .dataframe tbody tr th:only-of-type {\n        vertical-align: middle;\n    }\n\n    .dataframe tbody tr th {\n        vertical-align: top;\n    }\n\n    .dataframe thead th {\n        text-align: right;\n    }\n</style>\n<table border=\"1\" class=\"dataframe\">\n  <thead>\n    <tr style=\"text-align: right;\">\n      <th></th>\n      <th>Open</th>\n      <th>High</th>\n      <th>Low</th>\n      <th>Close</th>\n      <th>Volume</th>\n      <th>Dividends</th>\n      <th>Stock Splits</th>\n    </tr>\n    <tr>\n      <th>Date</th>\n      <th></th>\n      <th></th>\n      <th></th>\n      <th></th>\n      <th></th>\n      <th></th>\n      <th></th>\n    </tr>\n  </thead>\n  <tbody>\n    <tr>\n      <th>2021-05-03</th>\n      <td>131.816094</td>\n      <td>133.842666</td>\n      <td>131.606459</td>\n      <td>132.315247</td>\n      <td>75135100</td>\n      <td>0.00</td>\n      <td>0</td>\n    </tr>\n    <tr>\n      <th>2021-05-04</th>\n      <td>130.967542</td>\n      <td>131.267036</td>\n      <td>126.485150</td>\n      <td>127.633202</td>\n      <td>137564700</td>\n      <td>0.00</td>\n      <td>0</td>\n    </tr>\n    <tr>\n      <th>2021-05-05</th>\n      <td>128.980915</td>\n      <td>130.228796</td>\n      <td>127.753005</td>\n      <td>127.882790</td>\n      <td>84000900</td>\n      <td>0.00</td>\n      <td>0</td>\n    </tr>\n    <tr>\n      <th>2021-05-06</th>\n      <td>127.673135</td>\n      <td>129.529982</td>\n      <td>126.914422</td>\n      <td>129.520004</td>\n      <td>78128300</td>\n      <td>0.00</td>\n      <td>0</td>\n    </tr>\n    <tr>\n      <th>2021-05-07</th>\n      <td>130.850006</td>\n      <td>131.259995</td>\n      <td>129.479996</td>\n      <td>130.210007</td>\n      <td>78892700</td>\n      <td>0.22</td>\n      <td>0</td>\n    </tr>\n    <tr>\n      <th>2021-05-10</th>\n      <td>129.410004</td>\n      <td>129.539993</td>\n      <td>126.809998</td>\n      <td>126.849998</td>\n      <td>88071200</td>\n      <td>0.00</td>\n      <td>0</td>\n    </tr>\n    <tr>\n      <th>2021-05-11</th>\n      <td>123.500000</td>\n      <td>126.269997</td>\n      <td>122.769997</td>\n      <td>125.910004</td>\n      <td>126142800</td>\n      <td>0.00</td>\n      <td>0</td>\n    </tr>\n    <tr>\n      <th>2021-05-12</th>\n      <td>123.400002</td>\n      <td>124.639999</td>\n      <td>122.250000</td>\n      <td>122.769997</td>\n      <td>112172300</td>\n      <td>0.00</td>\n      <td>0</td>\n    </tr>\n    <tr>\n      <th>2021-05-13</th>\n      <td>124.580002</td>\n      <td>126.150002</td>\n      <td>124.260002</td>\n      <td>124.970001</td>\n      <td>105861300</td>\n      <td>0.00</td>\n      <td>0</td>\n    </tr>\n    <tr>\n      <th>2021-05-14</th>\n      <td>126.250000</td>\n      <td>127.889999</td>\n      <td>125.849998</td>\n      <td>127.449997</td>\n      <td>81806500</td>\n      <td>0.00</td>\n      <td>0</td>\n    </tr>\n    <tr>\n      <th>2021-05-17</th>\n      <td>126.820000</td>\n      <td>126.930000</td>\n      <td>125.169998</td>\n      <td>126.269997</td>\n      <td>74244600</td>\n      <td>0.00</td>\n      <td>0</td>\n    </tr>\n    <tr>\n      <th>2021-05-18</th>\n      <td>126.559998</td>\n      <td>126.989998</td>\n      <td>124.779999</td>\n      <td>124.849998</td>\n      <td>63342900</td>\n      <td>0.00</td>\n      <td>0</td>\n    </tr>\n    <tr>\n      <th>2021-05-19</th>\n      <td>123.160004</td>\n      <td>124.919998</td>\n      <td>122.860001</td>\n      <td>124.690002</td>\n      <td>92612000</td>\n      <td>0.00</td>\n      <td>0</td>\n    </tr>\n    <tr>\n      <th>2021-05-20</th>\n      <td>125.230003</td>\n      <td>127.720001</td>\n      <td>125.099998</td>\n      <td>127.309998</td>\n      <td>76857100</td>\n      <td>0.00</td>\n      <td>0</td>\n    </tr>\n    <tr>\n      <th>2021-05-21</th>\n      <td>127.820000</td>\n      <td>128.000000</td>\n      <td>125.209999</td>\n      <td>125.430000</td>\n      <td>79209300</td>\n      <td>0.00</td>\n      <td>0</td>\n    </tr>\n    <tr>\n      <th>2021-05-24</th>\n      <td>126.010002</td>\n      <td>127.940002</td>\n      <td>125.940002</td>\n      <td>127.099998</td>\n      <td>63092900</td>\n      <td>0.00</td>\n      <td>0</td>\n    </tr>\n    <tr>\n      <th>2021-05-25</th>\n      <td>127.820000</td>\n      <td>128.320007</td>\n      <td>126.320000</td>\n      <td>126.900002</td>\n      <td>72009500</td>\n      <td>0.00</td>\n      <td>0</td>\n    </tr>\n    <tr>\n      <th>2021-05-26</th>\n      <td>126.959999</td>\n      <td>127.389999</td>\n      <td>126.419998</td>\n      <td>126.849998</td>\n      <td>56575900</td>\n      <td>0.00</td>\n      <td>0</td>\n    </tr>\n    <tr>\n      <th>2021-05-27</th>\n      <td>126.440002</td>\n      <td>127.639999</td>\n      <td>125.080002</td>\n      <td>125.279999</td>\n      <td>94625600</td>\n      <td>0.00</td>\n      <td>0</td>\n    </tr>\n    <tr>\n      <th>2021-05-28</th>\n      <td>125.570000</td>\n      <td>125.800003</td>\n      <td>124.550003</td>\n      <td>124.610001</td>\n      <td>71232700</td>\n      <td>0.00</td>\n      <td>0</td>\n    </tr>\n  </tbody>\n</table>\n</div>"
     },
     "execution_count": 3,
     "metadata": {},
     "output_type": "execute_result"
    }
   ],
   "source": [
    "days = 20\n",
    "hist = aapl.history(period=f'{days}d')\n",
    "hist"
   ],
   "metadata": {
    "collapsed": false,
    "pycharm": {
     "name": "#%%\n"
    }
   }
  },
  {
   "cell_type": "code",
   "execution_count": 4,
   "outputs": [
    {
     "data": {
      "text/plain": "Index(['Open', 'High', 'Low', 'Close', 'Volume', 'Dividends', 'Stock Splits'], dtype='object')"
     },
     "execution_count": 4,
     "metadata": {},
     "output_type": "execute_result"
    }
   ],
   "source": [
    "hist.columns"
   ],
   "metadata": {
    "collapsed": false,
    "pycharm": {
     "name": "#%%\n"
    }
   }
  },
  {
   "cell_type": "code",
   "execution_count": 5,
   "outputs": [
    {
     "data": {
      "text/plain": "         Date        Open        High         Low       Close     Volume  \\\n0  2021-05-03  131.816094  133.842666  131.606459  132.315247   75135100   \n1  2021-05-04  130.967542  131.267036  126.485150  127.633202  137564700   \n2  2021-05-05  128.980915  130.228796  127.753005  127.882790   84000900   \n3  2021-05-06  127.673135  129.529982  126.914422  129.520004   78128300   \n4  2021-05-07  130.850006  131.259995  129.479996  130.210007   78892700   \n5  2021-05-10  129.410004  129.539993  126.809998  126.849998   88071200   \n6  2021-05-11  123.500000  126.269997  122.769997  125.910004  126142800   \n7  2021-05-12  123.400002  124.639999  122.250000  122.769997  112172300   \n8  2021-05-13  124.580002  126.150002  124.260002  124.970001  105861300   \n9  2021-05-14  126.250000  127.889999  125.849998  127.449997   81806500   \n10 2021-05-17  126.820000  126.930000  125.169998  126.269997   74244600   \n11 2021-05-18  126.559998  126.989998  124.779999  124.849998   63342900   \n12 2021-05-19  123.160004  124.919998  122.860001  124.690002   92612000   \n13 2021-05-20  125.230003  127.720001  125.099998  127.309998   76857100   \n14 2021-05-21  127.820000  128.000000  125.209999  125.430000   79209300   \n15 2021-05-24  126.010002  127.940002  125.940002  127.099998   63092900   \n16 2021-05-25  127.820000  128.320007  126.320000  126.900002   72009500   \n17 2021-05-26  126.959999  127.389999  126.419998  126.849998   56575900   \n18 2021-05-27  126.440002  127.639999  125.080002  125.279999   94625600   \n19 2021-05-28  125.570000  125.800003  124.550003  124.610001   71232700   \n\n    Dividends  Stock Splits  \n0        0.00             0  \n1        0.00             0  \n2        0.00             0  \n3        0.00             0  \n4        0.22             0  \n5        0.00             0  \n6        0.00             0  \n7        0.00             0  \n8        0.00             0  \n9        0.00             0  \n10       0.00             0  \n11       0.00             0  \n12       0.00             0  \n13       0.00             0  \n14       0.00             0  \n15       0.00             0  \n16       0.00             0  \n17       0.00             0  \n18       0.00             0  \n19       0.00             0  ",
      "text/html": "<div>\n<style scoped>\n    .dataframe tbody tr th:only-of-type {\n        vertical-align: middle;\n    }\n\n    .dataframe tbody tr th {\n        vertical-align: top;\n    }\n\n    .dataframe thead th {\n        text-align: right;\n    }\n</style>\n<table border=\"1\" class=\"dataframe\">\n  <thead>\n    <tr style=\"text-align: right;\">\n      <th></th>\n      <th>Date</th>\n      <th>Open</th>\n      <th>High</th>\n      <th>Low</th>\n      <th>Close</th>\n      <th>Volume</th>\n      <th>Dividends</th>\n      <th>Stock Splits</th>\n    </tr>\n  </thead>\n  <tbody>\n    <tr>\n      <th>0</th>\n      <td>2021-05-03</td>\n      <td>131.816094</td>\n      <td>133.842666</td>\n      <td>131.606459</td>\n      <td>132.315247</td>\n      <td>75135100</td>\n      <td>0.00</td>\n      <td>0</td>\n    </tr>\n    <tr>\n      <th>1</th>\n      <td>2021-05-04</td>\n      <td>130.967542</td>\n      <td>131.267036</td>\n      <td>126.485150</td>\n      <td>127.633202</td>\n      <td>137564700</td>\n      <td>0.00</td>\n      <td>0</td>\n    </tr>\n    <tr>\n      <th>2</th>\n      <td>2021-05-05</td>\n      <td>128.980915</td>\n      <td>130.228796</td>\n      <td>127.753005</td>\n      <td>127.882790</td>\n      <td>84000900</td>\n      <td>0.00</td>\n      <td>0</td>\n    </tr>\n    <tr>\n      <th>3</th>\n      <td>2021-05-06</td>\n      <td>127.673135</td>\n      <td>129.529982</td>\n      <td>126.914422</td>\n      <td>129.520004</td>\n      <td>78128300</td>\n      <td>0.00</td>\n      <td>0</td>\n    </tr>\n    <tr>\n      <th>4</th>\n      <td>2021-05-07</td>\n      <td>130.850006</td>\n      <td>131.259995</td>\n      <td>129.479996</td>\n      <td>130.210007</td>\n      <td>78892700</td>\n      <td>0.22</td>\n      <td>0</td>\n    </tr>\n    <tr>\n      <th>5</th>\n      <td>2021-05-10</td>\n      <td>129.410004</td>\n      <td>129.539993</td>\n      <td>126.809998</td>\n      <td>126.849998</td>\n      <td>88071200</td>\n      <td>0.00</td>\n      <td>0</td>\n    </tr>\n    <tr>\n      <th>6</th>\n      <td>2021-05-11</td>\n      <td>123.500000</td>\n      <td>126.269997</td>\n      <td>122.769997</td>\n      <td>125.910004</td>\n      <td>126142800</td>\n      <td>0.00</td>\n      <td>0</td>\n    </tr>\n    <tr>\n      <th>7</th>\n      <td>2021-05-12</td>\n      <td>123.400002</td>\n      <td>124.639999</td>\n      <td>122.250000</td>\n      <td>122.769997</td>\n      <td>112172300</td>\n      <td>0.00</td>\n      <td>0</td>\n    </tr>\n    <tr>\n      <th>8</th>\n      <td>2021-05-13</td>\n      <td>124.580002</td>\n      <td>126.150002</td>\n      <td>124.260002</td>\n      <td>124.970001</td>\n      <td>105861300</td>\n      <td>0.00</td>\n      <td>0</td>\n    </tr>\n    <tr>\n      <th>9</th>\n      <td>2021-05-14</td>\n      <td>126.250000</td>\n      <td>127.889999</td>\n      <td>125.849998</td>\n      <td>127.449997</td>\n      <td>81806500</td>\n      <td>0.00</td>\n      <td>0</td>\n    </tr>\n    <tr>\n      <th>10</th>\n      <td>2021-05-17</td>\n      <td>126.820000</td>\n      <td>126.930000</td>\n      <td>125.169998</td>\n      <td>126.269997</td>\n      <td>74244600</td>\n      <td>0.00</td>\n      <td>0</td>\n    </tr>\n    <tr>\n      <th>11</th>\n      <td>2021-05-18</td>\n      <td>126.559998</td>\n      <td>126.989998</td>\n      <td>124.779999</td>\n      <td>124.849998</td>\n      <td>63342900</td>\n      <td>0.00</td>\n      <td>0</td>\n    </tr>\n    <tr>\n      <th>12</th>\n      <td>2021-05-19</td>\n      <td>123.160004</td>\n      <td>124.919998</td>\n      <td>122.860001</td>\n      <td>124.690002</td>\n      <td>92612000</td>\n      <td>0.00</td>\n      <td>0</td>\n    </tr>\n    <tr>\n      <th>13</th>\n      <td>2021-05-20</td>\n      <td>125.230003</td>\n      <td>127.720001</td>\n      <td>125.099998</td>\n      <td>127.309998</td>\n      <td>76857100</td>\n      <td>0.00</td>\n      <td>0</td>\n    </tr>\n    <tr>\n      <th>14</th>\n      <td>2021-05-21</td>\n      <td>127.820000</td>\n      <td>128.000000</td>\n      <td>125.209999</td>\n      <td>125.430000</td>\n      <td>79209300</td>\n      <td>0.00</td>\n      <td>0</td>\n    </tr>\n    <tr>\n      <th>15</th>\n      <td>2021-05-24</td>\n      <td>126.010002</td>\n      <td>127.940002</td>\n      <td>125.940002</td>\n      <td>127.099998</td>\n      <td>63092900</td>\n      <td>0.00</td>\n      <td>0</td>\n    </tr>\n    <tr>\n      <th>16</th>\n      <td>2021-05-25</td>\n      <td>127.820000</td>\n      <td>128.320007</td>\n      <td>126.320000</td>\n      <td>126.900002</td>\n      <td>72009500</td>\n      <td>0.00</td>\n      <td>0</td>\n    </tr>\n    <tr>\n      <th>17</th>\n      <td>2021-05-26</td>\n      <td>126.959999</td>\n      <td>127.389999</td>\n      <td>126.419998</td>\n      <td>126.849998</td>\n      <td>56575900</td>\n      <td>0.00</td>\n      <td>0</td>\n    </tr>\n    <tr>\n      <th>18</th>\n      <td>2021-05-27</td>\n      <td>126.440002</td>\n      <td>127.639999</td>\n      <td>125.080002</td>\n      <td>125.279999</td>\n      <td>94625600</td>\n      <td>0.00</td>\n      <td>0</td>\n    </tr>\n    <tr>\n      <th>19</th>\n      <td>2021-05-28</td>\n      <td>125.570000</td>\n      <td>125.800003</td>\n      <td>124.550003</td>\n      <td>124.610001</td>\n      <td>71232700</td>\n      <td>0.00</td>\n      <td>0</td>\n    </tr>\n  </tbody>\n</table>\n</div>"
     },
     "execution_count": 5,
     "metadata": {},
     "output_type": "execute_result"
    }
   ],
   "source": [
    "hist.reset_index()"
   ],
   "metadata": {
    "collapsed": false,
    "pycharm": {
     "name": "#%%\n"
    }
   }
  },
  {
   "cell_type": "code",
   "execution_count": 6,
   "outputs": [
    {
     "data": {
      "text/plain": "                  Open        High         Low       Close    Volume  \\\nDate                                                                   \n2021-05-03  252.816215  253.764039  250.541469  251.279770  19626600   \n2021-05-04  250.391829  250.631281  245.193825  247.219147  32756100   \n2021-05-05  248.486221  248.925210  245.253695  245.902191  21901300   \n2021-05-06  245.882236  249.284384  244.126296  249.154678  26491100   \n2021-05-07  251.569089  253.714145  250.591351  251.878387  27010100   \n\n            Dividends  Stock Splits  \nDate                                 \n2021-05-03        0.0             0  \n2021-05-04        0.0             0  \n2021-05-05        0.0             0  \n2021-05-06        0.0             0  \n2021-05-07        0.0             0  ",
      "text/html": "<div>\n<style scoped>\n    .dataframe tbody tr th:only-of-type {\n        vertical-align: middle;\n    }\n\n    .dataframe tbody tr th {\n        vertical-align: top;\n    }\n\n    .dataframe thead th {\n        text-align: right;\n    }\n</style>\n<table border=\"1\" class=\"dataframe\">\n  <thead>\n    <tr style=\"text-align: right;\">\n      <th></th>\n      <th>Open</th>\n      <th>High</th>\n      <th>Low</th>\n      <th>Close</th>\n      <th>Volume</th>\n      <th>Dividends</th>\n      <th>Stock Splits</th>\n    </tr>\n    <tr>\n      <th>Date</th>\n      <th></th>\n      <th></th>\n      <th></th>\n      <th></th>\n      <th></th>\n      <th></th>\n      <th></th>\n    </tr>\n  </thead>\n  <tbody>\n    <tr>\n      <th>2021-05-03</th>\n      <td>252.816215</td>\n      <td>253.764039</td>\n      <td>250.541469</td>\n      <td>251.279770</td>\n      <td>19626600</td>\n      <td>0.0</td>\n      <td>0</td>\n    </tr>\n    <tr>\n      <th>2021-05-04</th>\n      <td>250.391829</td>\n      <td>250.631281</td>\n      <td>245.193825</td>\n      <td>247.219147</td>\n      <td>32756100</td>\n      <td>0.0</td>\n      <td>0</td>\n    </tr>\n    <tr>\n      <th>2021-05-05</th>\n      <td>248.486221</td>\n      <td>248.925210</td>\n      <td>245.253695</td>\n      <td>245.902191</td>\n      <td>21901300</td>\n      <td>0.0</td>\n      <td>0</td>\n    </tr>\n    <tr>\n      <th>2021-05-06</th>\n      <td>245.882236</td>\n      <td>249.284384</td>\n      <td>244.126296</td>\n      <td>249.154678</td>\n      <td>26491100</td>\n      <td>0.0</td>\n      <td>0</td>\n    </tr>\n    <tr>\n      <th>2021-05-07</th>\n      <td>251.569089</td>\n      <td>253.714145</td>\n      <td>250.591351</td>\n      <td>251.878387</td>\n      <td>27010100</td>\n      <td>0.0</td>\n      <td>0</td>\n    </tr>\n  </tbody>\n</table>\n</div>"
     },
     "execution_count": 6,
     "metadata": {},
     "output_type": "execute_result"
    }
   ],
   "source": [
    "hist_msft = yf.Ticker('MSFT').history(period=f'{days}d')\n",
    "hist_msft.head()"
   ],
   "metadata": {
    "collapsed": false,
    "pycharm": {
     "name": "#%%\n"
    }
   }
  },
  {
   "cell_type": "code",
   "execution_count": 7,
   "outputs": [
    {
     "data": {
      "text/plain": "                  Open        High         Low       Close     Volume  \\\nDate                                                                    \n2021-05-03  131.816094  133.842666  131.606459  132.315247   75135100   \n2021-05-04  130.967542  131.267036  126.485150  127.633202  137564700   \n2021-05-05  128.980915  130.228796  127.753005  127.882790   84000900   \n2021-05-06  127.673135  129.529982  126.914422  129.520004   78128300   \n2021-05-07  130.850006  131.259995  129.479996  130.210007   78892700   \n\n            Dividends  Stock Splits        Open        High         Low  \\\nDate                                                                      \n2021-05-03       0.00             0  252.816215  253.764039  250.541469   \n2021-05-04       0.00             0  250.391829  250.631281  245.193825   \n2021-05-05       0.00             0  248.486221  248.925210  245.253695   \n2021-05-06       0.00             0  245.882236  249.284384  244.126296   \n2021-05-07       0.22             0  251.569089  253.714145  250.591351   \n\n                 Close    Volume  Dividends  Stock Splits  \nDate                                                       \n2021-05-03  251.279770  19626600        0.0             0  \n2021-05-04  247.219147  32756100        0.0             0  \n2021-05-05  245.902191  21901300        0.0             0  \n2021-05-06  249.154678  26491100        0.0             0  \n2021-05-07  251.878387  27010100        0.0             0  ",
      "text/html": "<div>\n<style scoped>\n    .dataframe tbody tr th:only-of-type {\n        vertical-align: middle;\n    }\n\n    .dataframe tbody tr th {\n        vertical-align: top;\n    }\n\n    .dataframe thead th {\n        text-align: right;\n    }\n</style>\n<table border=\"1\" class=\"dataframe\">\n  <thead>\n    <tr style=\"text-align: right;\">\n      <th></th>\n      <th>Open</th>\n      <th>High</th>\n      <th>Low</th>\n      <th>Close</th>\n      <th>Volume</th>\n      <th>Dividends</th>\n      <th>Stock Splits</th>\n      <th>Open</th>\n      <th>High</th>\n      <th>Low</th>\n      <th>Close</th>\n      <th>Volume</th>\n      <th>Dividends</th>\n      <th>Stock Splits</th>\n    </tr>\n    <tr>\n      <th>Date</th>\n      <th></th>\n      <th></th>\n      <th></th>\n      <th></th>\n      <th></th>\n      <th></th>\n      <th></th>\n      <th></th>\n      <th></th>\n      <th></th>\n      <th></th>\n      <th></th>\n      <th></th>\n      <th></th>\n    </tr>\n  </thead>\n  <tbody>\n    <tr>\n      <th>2021-05-03</th>\n      <td>131.816094</td>\n      <td>133.842666</td>\n      <td>131.606459</td>\n      <td>132.315247</td>\n      <td>75135100</td>\n      <td>0.00</td>\n      <td>0</td>\n      <td>252.816215</td>\n      <td>253.764039</td>\n      <td>250.541469</td>\n      <td>251.279770</td>\n      <td>19626600</td>\n      <td>0.0</td>\n      <td>0</td>\n    </tr>\n    <tr>\n      <th>2021-05-04</th>\n      <td>130.967542</td>\n      <td>131.267036</td>\n      <td>126.485150</td>\n      <td>127.633202</td>\n      <td>137564700</td>\n      <td>0.00</td>\n      <td>0</td>\n      <td>250.391829</td>\n      <td>250.631281</td>\n      <td>245.193825</td>\n      <td>247.219147</td>\n      <td>32756100</td>\n      <td>0.0</td>\n      <td>0</td>\n    </tr>\n    <tr>\n      <th>2021-05-05</th>\n      <td>128.980915</td>\n      <td>130.228796</td>\n      <td>127.753005</td>\n      <td>127.882790</td>\n      <td>84000900</td>\n      <td>0.00</td>\n      <td>0</td>\n      <td>248.486221</td>\n      <td>248.925210</td>\n      <td>245.253695</td>\n      <td>245.902191</td>\n      <td>21901300</td>\n      <td>0.0</td>\n      <td>0</td>\n    </tr>\n    <tr>\n      <th>2021-05-06</th>\n      <td>127.673135</td>\n      <td>129.529982</td>\n      <td>126.914422</td>\n      <td>129.520004</td>\n      <td>78128300</td>\n      <td>0.00</td>\n      <td>0</td>\n      <td>245.882236</td>\n      <td>249.284384</td>\n      <td>244.126296</td>\n      <td>249.154678</td>\n      <td>26491100</td>\n      <td>0.0</td>\n      <td>0</td>\n    </tr>\n    <tr>\n      <th>2021-05-07</th>\n      <td>130.850006</td>\n      <td>131.259995</td>\n      <td>129.479996</td>\n      <td>130.210007</td>\n      <td>78892700</td>\n      <td>0.22</td>\n      <td>0</td>\n      <td>251.569089</td>\n      <td>253.714145</td>\n      <td>250.591351</td>\n      <td>251.878387</td>\n      <td>27010100</td>\n      <td>0.0</td>\n      <td>0</td>\n    </tr>\n  </tbody>\n</table>\n</div>"
     },
     "execution_count": 7,
     "metadata": {},
     "output_type": "execute_result"
    }
   ],
   "source": [
    "pd.concat([hist,hist_msft],axis=1).head()"
   ],
   "metadata": {
    "collapsed": false,
    "pycharm": {
     "name": "#%%\n"
    }
   }
  },
  {
   "cell_type": "code",
   "execution_count": 8,
   "outputs": [
    {
     "data": {
      "text/plain": "                  Open        High         Low       Close     Volume  \\\nDate                                                                    \n2021-05-03  131.816094  133.842666  131.606459  132.315247   75135100   \n2021-05-04  130.967542  131.267036  126.485150  127.633202  137564700   \n2021-05-05  128.980915  130.228796  127.753005  127.882790   84000900   \n2021-05-06  127.673135  129.529982  126.914422  129.520004   78128300   \n2021-05-07  130.850006  131.259995  129.479996  130.210007   78892700   \n\n            Dividends  Stock Splits  \nDate                                 \n2021-05-03       0.00             0  \n2021-05-04       0.00             0  \n2021-05-05       0.00             0  \n2021-05-06       0.00             0  \n2021-05-07       0.22             0  ",
      "text/html": "<div>\n<style scoped>\n    .dataframe tbody tr th:only-of-type {\n        vertical-align: middle;\n    }\n\n    .dataframe tbody tr th {\n        vertical-align: top;\n    }\n\n    .dataframe thead th {\n        text-align: right;\n    }\n</style>\n<table border=\"1\" class=\"dataframe\">\n  <thead>\n    <tr style=\"text-align: right;\">\n      <th></th>\n      <th>Open</th>\n      <th>High</th>\n      <th>Low</th>\n      <th>Close</th>\n      <th>Volume</th>\n      <th>Dividends</th>\n      <th>Stock Splits</th>\n    </tr>\n    <tr>\n      <th>Date</th>\n      <th></th>\n      <th></th>\n      <th></th>\n      <th></th>\n      <th></th>\n      <th></th>\n      <th></th>\n    </tr>\n  </thead>\n  <tbody>\n    <tr>\n      <th>2021-05-03</th>\n      <td>131.816094</td>\n      <td>133.842666</td>\n      <td>131.606459</td>\n      <td>132.315247</td>\n      <td>75135100</td>\n      <td>0.00</td>\n      <td>0</td>\n    </tr>\n    <tr>\n      <th>2021-05-04</th>\n      <td>130.967542</td>\n      <td>131.267036</td>\n      <td>126.485150</td>\n      <td>127.633202</td>\n      <td>137564700</td>\n      <td>0.00</td>\n      <td>0</td>\n    </tr>\n    <tr>\n      <th>2021-05-05</th>\n      <td>128.980915</td>\n      <td>130.228796</td>\n      <td>127.753005</td>\n      <td>127.882790</td>\n      <td>84000900</td>\n      <td>0.00</td>\n      <td>0</td>\n    </tr>\n    <tr>\n      <th>2021-05-06</th>\n      <td>127.673135</td>\n      <td>129.529982</td>\n      <td>126.914422</td>\n      <td>129.520004</td>\n      <td>78128300</td>\n      <td>0.00</td>\n      <td>0</td>\n    </tr>\n    <tr>\n      <th>2021-05-07</th>\n      <td>130.850006</td>\n      <td>131.259995</td>\n      <td>129.479996</td>\n      <td>130.210007</td>\n      <td>78892700</td>\n      <td>0.22</td>\n      <td>0</td>\n    </tr>\n  </tbody>\n</table>\n</div>"
     },
     "execution_count": 8,
     "metadata": {},
     "output_type": "execute_result"
    }
   ],
   "source": [
    "hist.head()"
   ],
   "metadata": {
    "collapsed": false,
    "pycharm": {
     "name": "#%%\n"
    }
   }
  },
  {
   "cell_type": "code",
   "execution_count": 9,
   "outputs": [
    {
     "data": {
      "text/plain": "DatetimeIndex(['2021-05-03', '2021-05-04', '2021-05-05', '2021-05-06',\n               '2021-05-07', '2021-05-10', '2021-05-11', '2021-05-12',\n               '2021-05-13', '2021-05-14', '2021-05-17', '2021-05-18',\n               '2021-05-19', '2021-05-20', '2021-05-21', '2021-05-24',\n               '2021-05-25', '2021-05-26', '2021-05-27', '2021-05-28'],\n              dtype='datetime64[ns]', name='Date', freq=None)"
     },
     "execution_count": 9,
     "metadata": {},
     "output_type": "execute_result"
    }
   ],
   "source": [
    "hist.index"
   ],
   "metadata": {
    "collapsed": false,
    "pycharm": {
     "name": "#%%\n"
    }
   }
  },
  {
   "cell_type": "code",
   "execution_count": 10,
   "outputs": [],
   "source": [
    "hist.index = hist.index.strftime('%d %B %Y')"
   ],
   "metadata": {
    "collapsed": false,
    "pycharm": {
     "name": "#%%\n"
    }
   }
  },
  {
   "cell_type": "code",
   "execution_count": 11,
   "outputs": [
    {
     "data": {
      "text/plain": "                   Open        High         Low       Close     Volume  \\\nDate                                                                     \n03 May 2021  131.816094  133.842666  131.606459  132.315247   75135100   \n04 May 2021  130.967542  131.267036  126.485150  127.633202  137564700   \n05 May 2021  128.980915  130.228796  127.753005  127.882790   84000900   \n06 May 2021  127.673135  129.529982  126.914422  129.520004   78128300   \n07 May 2021  130.850006  131.259995  129.479996  130.210007   78892700   \n\n             Dividends  Stock Splits  \nDate                                  \n03 May 2021       0.00             0  \n04 May 2021       0.00             0  \n05 May 2021       0.00             0  \n06 May 2021       0.00             0  \n07 May 2021       0.22             0  ",
      "text/html": "<div>\n<style scoped>\n    .dataframe tbody tr th:only-of-type {\n        vertical-align: middle;\n    }\n\n    .dataframe tbody tr th {\n        vertical-align: top;\n    }\n\n    .dataframe thead th {\n        text-align: right;\n    }\n</style>\n<table border=\"1\" class=\"dataframe\">\n  <thead>\n    <tr style=\"text-align: right;\">\n      <th></th>\n      <th>Open</th>\n      <th>High</th>\n      <th>Low</th>\n      <th>Close</th>\n      <th>Volume</th>\n      <th>Dividends</th>\n      <th>Stock Splits</th>\n    </tr>\n    <tr>\n      <th>Date</th>\n      <th></th>\n      <th></th>\n      <th></th>\n      <th></th>\n      <th></th>\n      <th></th>\n      <th></th>\n    </tr>\n  </thead>\n  <tbody>\n    <tr>\n      <th>03 May 2021</th>\n      <td>131.816094</td>\n      <td>133.842666</td>\n      <td>131.606459</td>\n      <td>132.315247</td>\n      <td>75135100</td>\n      <td>0.00</td>\n      <td>0</td>\n    </tr>\n    <tr>\n      <th>04 May 2021</th>\n      <td>130.967542</td>\n      <td>131.267036</td>\n      <td>126.485150</td>\n      <td>127.633202</td>\n      <td>137564700</td>\n      <td>0.00</td>\n      <td>0</td>\n    </tr>\n    <tr>\n      <th>05 May 2021</th>\n      <td>128.980915</td>\n      <td>130.228796</td>\n      <td>127.753005</td>\n      <td>127.882790</td>\n      <td>84000900</td>\n      <td>0.00</td>\n      <td>0</td>\n    </tr>\n    <tr>\n      <th>06 May 2021</th>\n      <td>127.673135</td>\n      <td>129.529982</td>\n      <td>126.914422</td>\n      <td>129.520004</td>\n      <td>78128300</td>\n      <td>0.00</td>\n      <td>0</td>\n    </tr>\n    <tr>\n      <th>07 May 2021</th>\n      <td>130.850006</td>\n      <td>131.259995</td>\n      <td>129.479996</td>\n      <td>130.210007</td>\n      <td>78892700</td>\n      <td>0.22</td>\n      <td>0</td>\n    </tr>\n  </tbody>\n</table>\n</div>"
     },
     "execution_count": 11,
     "metadata": {},
     "output_type": "execute_result"
    }
   ],
   "source": [
    "hist.head()"
   ],
   "metadata": {
    "collapsed": false,
    "pycharm": {
     "name": "#%%\n"
    }
   }
  },
  {
   "cell_type": "code",
   "execution_count": 12,
   "outputs": [],
   "source": [
    "hist = hist[['Close']]"
   ],
   "metadata": {
    "collapsed": false,
    "pycharm": {
     "name": "#%%\n"
    }
   }
  },
  {
   "cell_type": "code",
   "execution_count": 13,
   "outputs": [
    {
     "data": {
      "text/plain": "                  Close\nDate                   \n03 May 2021  132.315247\n04 May 2021  127.633202\n05 May 2021  127.882790\n06 May 2021  129.520004\n07 May 2021  130.210007",
      "text/html": "<div>\n<style scoped>\n    .dataframe tbody tr th:only-of-type {\n        vertical-align: middle;\n    }\n\n    .dataframe tbody tr th {\n        vertical-align: top;\n    }\n\n    .dataframe thead th {\n        text-align: right;\n    }\n</style>\n<table border=\"1\" class=\"dataframe\">\n  <thead>\n    <tr style=\"text-align: right;\">\n      <th></th>\n      <th>Close</th>\n    </tr>\n    <tr>\n      <th>Date</th>\n      <th></th>\n    </tr>\n  </thead>\n  <tbody>\n    <tr>\n      <th>03 May 2021</th>\n      <td>132.315247</td>\n    </tr>\n    <tr>\n      <th>04 May 2021</th>\n      <td>127.633202</td>\n    </tr>\n    <tr>\n      <th>05 May 2021</th>\n      <td>127.882790</td>\n    </tr>\n    <tr>\n      <th>06 May 2021</th>\n      <td>129.520004</td>\n    </tr>\n    <tr>\n      <th>07 May 2021</th>\n      <td>130.210007</td>\n    </tr>\n  </tbody>\n</table>\n</div>"
     },
     "execution_count": 13,
     "metadata": {},
     "output_type": "execute_result"
    }
   ],
   "source": [
    "hist.head()"
   ],
   "metadata": {
    "collapsed": false,
    "pycharm": {
     "name": "#%%\n"
    }
   }
  },
  {
   "cell_type": "code",
   "execution_count": 14,
   "outputs": [
    {
     "data": {
      "text/plain": "                  apple\nDate                   \n03 May 2021  132.315247\n04 May 2021  127.633202\n05 May 2021  127.882790\n06 May 2021  129.520004\n07 May 2021  130.210007",
      "text/html": "<div>\n<style scoped>\n    .dataframe tbody tr th:only-of-type {\n        vertical-align: middle;\n    }\n\n    .dataframe tbody tr th {\n        vertical-align: top;\n    }\n\n    .dataframe thead th {\n        text-align: right;\n    }\n</style>\n<table border=\"1\" class=\"dataframe\">\n  <thead>\n    <tr style=\"text-align: right;\">\n      <th></th>\n      <th>apple</th>\n    </tr>\n    <tr>\n      <th>Date</th>\n      <th></th>\n    </tr>\n  </thead>\n  <tbody>\n    <tr>\n      <th>03 May 2021</th>\n      <td>132.315247</td>\n    </tr>\n    <tr>\n      <th>04 May 2021</th>\n      <td>127.633202</td>\n    </tr>\n    <tr>\n      <th>05 May 2021</th>\n      <td>127.882790</td>\n    </tr>\n    <tr>\n      <th>06 May 2021</th>\n      <td>129.520004</td>\n    </tr>\n    <tr>\n      <th>07 May 2021</th>\n      <td>130.210007</td>\n    </tr>\n  </tbody>\n</table>\n</div>"
     },
     "execution_count": 14,
     "metadata": {},
     "output_type": "execute_result"
    }
   ],
   "source": [
    "hist.columns = ['apple']\n",
    "hist.head()"
   ],
   "metadata": {
    "collapsed": false,
    "pycharm": {
     "name": "#%%\n"
    }
   }
  },
  {
   "cell_type": "code",
   "execution_count": 15,
   "outputs": [
    {
     "data": {
      "text/plain": "Date   03 May 2021  04 May 2021  05 May 2021  06 May 2021  07 May 2021  \\\napple   132.315247   127.633202    127.88279   129.520004   130.210007   \n\nDate   10 May 2021  11 May 2021  12 May 2021  13 May 2021  14 May 2021  \\\napple   126.849998   125.910004   122.769997   124.970001   127.449997   \n\nDate   17 May 2021  18 May 2021  19 May 2021  20 May 2021  21 May 2021  \\\napple   126.269997   124.849998   124.690002   127.309998       125.43   \n\nDate   24 May 2021  25 May 2021  26 May 2021  27 May 2021  28 May 2021  \napple   127.099998   126.900002   126.849998   125.279999   124.610001  ",
      "text/html": "<div>\n<style scoped>\n    .dataframe tbody tr th:only-of-type {\n        vertical-align: middle;\n    }\n\n    .dataframe tbody tr th {\n        vertical-align: top;\n    }\n\n    .dataframe thead th {\n        text-align: right;\n    }\n</style>\n<table border=\"1\" class=\"dataframe\">\n  <thead>\n    <tr style=\"text-align: right;\">\n      <th>Date</th>\n      <th>03 May 2021</th>\n      <th>04 May 2021</th>\n      <th>05 May 2021</th>\n      <th>06 May 2021</th>\n      <th>07 May 2021</th>\n      <th>10 May 2021</th>\n      <th>11 May 2021</th>\n      <th>12 May 2021</th>\n      <th>13 May 2021</th>\n      <th>14 May 2021</th>\n      <th>17 May 2021</th>\n      <th>18 May 2021</th>\n      <th>19 May 2021</th>\n      <th>20 May 2021</th>\n      <th>21 May 2021</th>\n      <th>24 May 2021</th>\n      <th>25 May 2021</th>\n      <th>26 May 2021</th>\n      <th>27 May 2021</th>\n      <th>28 May 2021</th>\n    </tr>\n  </thead>\n  <tbody>\n    <tr>\n      <th>apple</th>\n      <td>132.315247</td>\n      <td>127.633202</td>\n      <td>127.88279</td>\n      <td>129.520004</td>\n      <td>130.210007</td>\n      <td>126.849998</td>\n      <td>125.910004</td>\n      <td>122.769997</td>\n      <td>124.970001</td>\n      <td>127.449997</td>\n      <td>126.269997</td>\n      <td>124.849998</td>\n      <td>124.690002</td>\n      <td>127.309998</td>\n      <td>125.43</td>\n      <td>127.099998</td>\n      <td>126.900002</td>\n      <td>126.849998</td>\n      <td>125.279999</td>\n      <td>124.610001</td>\n    </tr>\n  </tbody>\n</table>\n</div>"
     },
     "execution_count": 15,
     "metadata": {},
     "output_type": "execute_result"
    }
   ],
   "source": [
    "hist = hist.T\n",
    "hist"
   ],
   "metadata": {
    "collapsed": false,
    "pycharm": {
     "name": "#%%\n"
    }
   }
  },
  {
   "cell_type": "code",
   "execution_count": 16,
   "outputs": [
    {
     "data": {
      "text/plain": "Date   03 May 2021  04 May 2021  05 May 2021  06 May 2021  07 May 2021  \\\nName                                                                     \napple   132.315247   127.633202    127.88279   129.520004   130.210007   \n\nDate   10 May 2021  11 May 2021  12 May 2021  13 May 2021  14 May 2021  \\\nName                                                                     \napple   126.849998   125.910004   122.769997   124.970001   127.449997   \n\nDate   17 May 2021  18 May 2021  19 May 2021  20 May 2021  21 May 2021  \\\nName                                                                     \napple   126.269997   124.849998   124.690002   127.309998       125.43   \n\nDate   24 May 2021  25 May 2021  26 May 2021  27 May 2021  28 May 2021  \nName                                                                    \napple   127.099998   126.900002   126.849998   125.279999   124.610001  ",
      "text/html": "<div>\n<style scoped>\n    .dataframe tbody tr th:only-of-type {\n        vertical-align: middle;\n    }\n\n    .dataframe tbody tr th {\n        vertical-align: top;\n    }\n\n    .dataframe thead th {\n        text-align: right;\n    }\n</style>\n<table border=\"1\" class=\"dataframe\">\n  <thead>\n    <tr style=\"text-align: right;\">\n      <th>Date</th>\n      <th>03 May 2021</th>\n      <th>04 May 2021</th>\n      <th>05 May 2021</th>\n      <th>06 May 2021</th>\n      <th>07 May 2021</th>\n      <th>10 May 2021</th>\n      <th>11 May 2021</th>\n      <th>12 May 2021</th>\n      <th>13 May 2021</th>\n      <th>14 May 2021</th>\n      <th>17 May 2021</th>\n      <th>18 May 2021</th>\n      <th>19 May 2021</th>\n      <th>20 May 2021</th>\n      <th>21 May 2021</th>\n      <th>24 May 2021</th>\n      <th>25 May 2021</th>\n      <th>26 May 2021</th>\n      <th>27 May 2021</th>\n      <th>28 May 2021</th>\n    </tr>\n    <tr>\n      <th>Name</th>\n      <th></th>\n      <th></th>\n      <th></th>\n      <th></th>\n      <th></th>\n      <th></th>\n      <th></th>\n      <th></th>\n      <th></th>\n      <th></th>\n      <th></th>\n      <th></th>\n      <th></th>\n      <th></th>\n      <th></th>\n      <th></th>\n      <th></th>\n      <th></th>\n      <th></th>\n      <th></th>\n    </tr>\n  </thead>\n  <tbody>\n    <tr>\n      <th>apple</th>\n      <td>132.315247</td>\n      <td>127.633202</td>\n      <td>127.88279</td>\n      <td>129.520004</td>\n      <td>130.210007</td>\n      <td>126.849998</td>\n      <td>125.910004</td>\n      <td>122.769997</td>\n      <td>124.970001</td>\n      <td>127.449997</td>\n      <td>126.269997</td>\n      <td>124.849998</td>\n      <td>124.690002</td>\n      <td>127.309998</td>\n      <td>125.43</td>\n      <td>127.099998</td>\n      <td>126.900002</td>\n      <td>126.849998</td>\n      <td>125.279999</td>\n      <td>124.610001</td>\n    </tr>\n  </tbody>\n</table>\n</div>"
     },
     "execution_count": 16,
     "metadata": {},
     "output_type": "execute_result"
    }
   ],
   "source": [
    "hist.index.name = 'Name'\n",
    "hist"
   ],
   "metadata": {
    "collapsed": false,
    "pycharm": {
     "name": "#%%\n"
    }
   }
  },
  {
   "cell_type": "code",
   "execution_count": 17,
   "outputs": [],
   "source": [
    "def get_data(days,tickers):\n",
    "    df = pd.DataFrame()\n",
    "    for company in tickers.keys():\n",
    "        tkr = yf.Ticker(tickers[company])\n",
    "        hist = tkr.history(period=f'{days}d')\n",
    "        hist.index = hist.index.strftime('%d %B %Y')\n",
    "        hist = hist[['Close']]\n",
    "        hist.columns = [company]\n",
    "        hist = hist.T\n",
    "        hist.index.name = 'Name'\n",
    "        df = pd.concat([df,hist])\n",
    "    return df"
   ],
   "metadata": {
    "collapsed": false,
    "pycharm": {
     "name": "#%%\n"
    }
   }
  },
  {
   "cell_type": "code",
   "execution_count": 18,
   "outputs": [],
   "source": [
    "days = 20\n",
    "tickers = {\n",
    "    'apple':'AAPL',\n",
    "    'facebook':'FB',\n",
    "    'google':'GOOGL',\n",
    "    'microsoft':'MSFT',\n",
    "    'netflix':'NFLX',\n",
    "    'amazon':'AMZN'\n",
    "}\n",
    "\n",
    "df = get_data(days,tickers)"
   ],
   "metadata": {
    "collapsed": false,
    "pycharm": {
     "name": "#%%\n"
    }
   }
  },
  {
   "cell_type": "code",
   "execution_count": 19,
   "outputs": [
    {
     "data": {
      "text/plain": "{'zip': '95014',\n 'sector': 'Technology',\n 'fullTimeEmployees': 100000,\n 'longBusinessSummary': 'Apple Inc. designs, manufactures, and markets smartphones, personal computers, tablets, wearables, and accessories worldwide. It also sells various related services. The company offers iPhone, a line of smartphones; Mac, a line of personal computers; iPad, a line of multi-purpose tablets; and wearables, home, and accessories comprising AirPods, Apple TV, Apple Watch, Beats products, HomePod, iPod touch, and other Apple-branded and third-party accessories. It also provides AppleCare support services; cloud services store services; and operates various platforms, including the App Store, that allow customers to discover and download applications and digital content, such as books, music, video, games, and podcasts. In addition, the company offers various services, such as Apple Arcade, a game subscription service; Apple Music, which offers users a curated listening experience with on-demand radio stations; Apple News+, a subscription news and magazine service; Apple TV+, which offers exclusive original content; Apple Card, a co-branded credit card; and Apple Pay, a cashless payment service, as well as licenses its intellectual property. The company serves consumers, and small and mid-sized businesses; and the education, enterprise, and government markets. It sells and delivers third-party applications for its products through the App Store. The company also sells its products through its retail and online stores, and direct sales force; and third-party cellular network carriers, wholesalers, retailers, and resellers. Apple Inc. was founded in 1977 and is headquartered in Cupertino, California.',\n 'city': 'Cupertino',\n 'phone': '408-996-1010',\n 'state': 'CA',\n 'country': 'United States',\n 'companyOfficers': [],\n 'website': 'http://www.apple.com',\n 'maxAge': 1,\n 'address1': 'One Apple Park Way',\n 'industry': 'Consumer Electronics',\n 'previousClose': 125.28,\n 'regularMarketOpen': 125.57,\n 'twoHundredDayAverage': 127.612076,\n 'trailingAnnualDividendYield': 0.0065453383,\n 'payoutRatio': 0.1834,\n 'volume24Hr': None,\n 'regularMarketDayHigh': 125.79,\n 'navPrice': None,\n 'averageDailyVolume10Day': 71507320,\n 'totalAssets': None,\n 'regularMarketPreviousClose': 125.28,\n 'fiftyDayAverage': 129.63943,\n 'trailingAnnualDividendRate': 0.82,\n 'open': 125.57,\n 'toCurrency': None,\n 'averageVolume10days': 71507320,\n 'expireDate': None,\n 'yield': None,\n 'algorithm': None,\n 'dividendRate': 0.88,\n 'exDividendDate': 1620345600,\n 'beta': 1.203743,\n 'circulatingSupply': None,\n 'startDate': None,\n 'regularMarketDayLow': 124.55,\n 'priceHint': 2,\n 'currency': 'USD',\n 'trailingPE': 28.008543,\n 'regularMarketVolume': 71311109,\n 'lastMarket': None,\n 'maxSupply': None,\n 'openInterest': None,\n 'marketCap': 2079441813504,\n 'volumeAllCurrencies': None,\n 'strikePrice': None,\n 'averageVolume': 97683245,\n 'priceToSalesTrailing12Months': 6.3903,\n 'dayLow': 124.55,\n 'ask': 0,\n 'ytdReturn': None,\n 'askSize': 1100,\n 'volume': 71311109,\n 'fiftyTwoWeekHigh': 145.09,\n 'forwardPE': 23.29159,\n 'fromCurrency': None,\n 'fiveYearAvgDividendYield': 1.34,\n 'fiftyTwoWeekLow': 79.7325,\n 'bid': 0,\n 'tradeable': False,\n 'dividendYield': 0.0070999996,\n 'bidSize': 1000,\n 'dayHigh': 125.79,\n 'exchange': 'NMS',\n 'shortName': 'Apple Inc.',\n 'longName': 'Apple Inc.',\n 'exchangeTimezoneName': 'America/New_York',\n 'exchangeTimezoneShortName': 'EDT',\n 'isEsgPopulated': False,\n 'gmtOffSetMilliseconds': '-14400000',\n 'quoteType': 'EQUITY',\n 'symbol': 'AAPL',\n 'messageBoardId': 'finmb_24937',\n 'market': 'us_market',\n 'annualHoldingsTurnover': None,\n 'enterpriseToRevenue': 6.59,\n 'beta3Year': None,\n 'profitMargins': 0.23451,\n 'enterpriseToEbitda': 21.482,\n '52WeekChange': 0.54153526,\n 'morningStarRiskRating': None,\n 'forwardEps': 5.35,\n 'revenueQuarterlyGrowth': None,\n 'sharesOutstanding': 16687599616,\n 'fundInceptionDate': None,\n 'annualReportExpenseRatio': None,\n 'bookValue': 4.146,\n 'sharesShort': 94747255,\n 'sharesPercentSharesOut': 0.0057,\n 'fundFamily': None,\n 'lastFiscalYearEnd': 1601078400,\n 'heldPercentInstitutions': 0.58707,\n 'netIncomeToCommon': 76311003136,\n 'trailingEps': 4.449,\n 'lastDividendValue': 0.22,\n 'SandP52WeekChange': 0.36460745,\n 'priceToBook': 30.055475,\n 'heldPercentInsiders': 0.00066,\n 'nextFiscalYearEnd': 1664150400,\n 'mostRecentQuarter': 1616803200,\n 'shortRatio': 1.01,\n 'sharesShortPreviousMonthDate': 1618444800,\n 'floatShares': 16670609616,\n 'enterpriseValue': 2144356663296,\n 'threeYearAverageReturn': None,\n 'lastSplitDate': 1598832000,\n 'lastSplitFactor': '4:1',\n 'legalType': None,\n 'lastDividendDate': 1620345600,\n 'morningStarOverallRating': None,\n 'earningsQuarterlyGrowth': 1.101,\n 'dateShortInterest': 1620950400,\n 'pegRatio': 1.45,\n 'lastCapGain': None,\n 'shortPercentOfFloat': 0.0057,\n 'sharesShortPriorMonth': 127937929,\n 'impliedSharesOutstanding': None,\n 'category': None,\n 'fiveYearAverageReturn': None,\n 'regularMarketPrice': 124.61,\n 'logo_url': 'https://logo.clearbit.com/apple.com'}"
     },
     "execution_count": 19,
     "metadata": {},
     "output_type": "execute_result"
    }
   ],
   "source": [
    "aapl = yf.Ticker('AAPL')\n",
    "aapl.info"
   ],
   "metadata": {
    "collapsed": false,
    "pycharm": {
     "name": "#%%\n"
    }
   }
  },
  {
   "cell_type": "code",
   "execution_count": 20,
   "outputs": [
    {
     "data": {
      "text/plain": "            Dividends  Stock Splits\nDate                               \n1987-05-11   0.000536           0.0\n1987-06-16   0.000000           2.0\n1987-08-10   0.000536           0.0\n1987-11-17   0.000714           0.0\n1988-02-12   0.000714           0.0",
      "text/html": "<div>\n<style scoped>\n    .dataframe tbody tr th:only-of-type {\n        vertical-align: middle;\n    }\n\n    .dataframe tbody tr th {\n        vertical-align: top;\n    }\n\n    .dataframe thead th {\n        text-align: right;\n    }\n</style>\n<table border=\"1\" class=\"dataframe\">\n  <thead>\n    <tr style=\"text-align: right;\">\n      <th></th>\n      <th>Dividends</th>\n      <th>Stock Splits</th>\n    </tr>\n    <tr>\n      <th>Date</th>\n      <th></th>\n      <th></th>\n    </tr>\n  </thead>\n  <tbody>\n    <tr>\n      <th>1987-05-11</th>\n      <td>0.000536</td>\n      <td>0.0</td>\n    </tr>\n    <tr>\n      <th>1987-06-16</th>\n      <td>0.000000</td>\n      <td>2.0</td>\n    </tr>\n    <tr>\n      <th>1987-08-10</th>\n      <td>0.000536</td>\n      <td>0.0</td>\n    </tr>\n    <tr>\n      <th>1987-11-17</th>\n      <td>0.000714</td>\n      <td>0.0</td>\n    </tr>\n    <tr>\n      <th>1988-02-12</th>\n      <td>0.000714</td>\n      <td>0.0</td>\n    </tr>\n  </tbody>\n</table>\n</div>"
     },
     "execution_count": 20,
     "metadata": {},
     "output_type": "execute_result"
    }
   ],
   "source": [
    "aapl.actions.head()"
   ],
   "metadata": {
    "collapsed": false,
    "pycharm": {
     "name": "#%%\n"
    }
   }
  },
  {
   "cell_type": "code",
   "execution_count": 21,
   "outputs": [
    {
     "data": {
      "text/plain": "<AxesSubplot:xlabel='Date'>"
     },
     "execution_count": 21,
     "metadata": {},
     "output_type": "execute_result"
    },
    {
     "data": {
      "text/plain": "<Figure size 432x288 with 1 Axes>",
      "image/png": "[encoded data removed]"
     },
     "metadata": {
      "needs_background": "light"
     },
     "output_type": "display_data"
    }
   ],
   "source": [
    "aapl.dividends.plot()"
   ],
   "metadata": {
    "collapsed": false,
    "pycharm": {
     "name": "#%%\n"
    }
   }
  },
  {
   "cell_type": "code",
   "execution_count": 38,
   "outputs": [
    {
     "data": {
      "text/plain": "RendererRegistry.enable('altair_viewer')"
     },
     "execution_count": 38,
     "metadata": {},
     "output_type": "execute_result"
    }
   ],
   "source": [
    "import altair as alt\n",
    "alt.renderers.enable('altair_viewer')"
   ],
   "metadata": {
    "collapsed": false,
    "pycharm": {
     "name": "#%%\n"
    }
   }
  },
  {
   "cell_type": "code",
   "execution_count": 23,
   "outputs": [
    {
     "data": {
      "text/plain": "Date       03 May 2021  04 May 2021  05 May 2021  06 May 2021  07 May 2021  \\\nName                                                                         \napple       132.315247   127.633202   127.882790   129.520004   130.210007   \nfacebook    322.579987   318.359985   315.019989   320.019989   319.079987   \ngoogle     2343.080078  2306.830078  2314.770020  2337.350098  2351.929932   \nmicrosoft   251.279770   247.219147   245.902191   249.154678   251.878387   \nnetflix     509.109985   503.179993   496.079987   499.549988   503.839996   \namazon     3386.489990  3311.870117  3270.540039  3306.370117  3291.610107   \n\nDate       10 May 2021  11 May 2021  12 May 2021  13 May 2021  14 May 2021  \\\nName                                                                         \napple       126.849998   125.910004   122.769997   124.970001   127.449997   \nfacebook    305.970001   306.529999   302.549988   305.260010   315.940002   \ngoogle     2291.750000  2270.060059  2200.250000  2229.040039  2278.379883   \nmicrosoft   246.610550   245.662735   238.449402   242.470108   247.578308   \nnetflix     486.690002   495.079987   484.980011   486.660004   493.369995   \namazon     3190.489990  3223.909912  3151.939941  3161.469971  3222.899902   \n\nDate       17 May 2021  18 May 2021  19 May 2021  20 May 2021  21 May 2021  \\\nName                                                                         \napple       126.269997   124.849998   124.690002   127.309998   125.430000   \nfacebook    315.459991   309.959991   313.589996   318.609985   316.230011   \ngoogle     2288.919922  2262.469971  2271.500000  2306.949951  2294.129883   \nmicrosoft   244.615158   242.520004   243.119995   246.479996   245.169998   \nnetflix     488.940002   486.279999   487.700012   501.670013   497.890015   \namazon     3270.389893  3232.280029  3231.800049  3247.679932  3203.080078   \n\nDate       24 May 2021  25 May 2021  26 May 2021  27 May 2021  28 May 2021  \nName                                                                        \napple       127.099998   126.900002   126.849998   125.279999   124.610001  \nfacebook    324.630005   327.790009   327.660004   332.750000   328.730011  \ngoogle     2361.040039  2362.870117  2380.310059  2362.679932  2356.850098  \nmicrosoft   250.779999   251.720001   251.490005   249.309998   249.679993  \nnetflix     502.899994   501.339996   502.359985   503.859985   502.809998  \namazon     3244.989990  3259.050049  3265.159912  3230.110107  3223.070068  ",
      "text/html": "<div>\n<style scoped>\n    .dataframe tbody tr th:only-of-type {\n        vertical-align: middle;\n    }\n\n    .dataframe tbody tr th {\n        vertical-align: top;\n    }\n\n    .dataframe thead th {\n        text-align: right;\n    }\n</style>\n<table border=\"1\" class=\"dataframe\">\n  <thead>\n    <tr style=\"text-align: right;\">\n      <th>Date</th>\n      <th>03 May 2021</th>\n      <th>04 May 2021</th>\n      <th>05 May 2021</th>\n      <th>06 May 2021</th>\n      <th>07 May 2021</th>\n      <th>10 May 2021</th>\n      <th>11 May 2021</th>\n      <th>12 May 2021</th>\n      <th>13 May 2021</th>\n      <th>14 May 2021</th>\n      <th>17 May 2021</th>\n      <th>18 May 2021</th>\n      <th>19 May 2021</th>\n      <th>20 May 2021</th>\n      <th>21 May 2021</th>\n      <th>24 May 2021</th>\n      <th>25 May 2021</th>\n      <th>26 May 2021</th>\n      <th>27 May 2021</th>\n      <th>28 May 2021</th>\n    </tr>\n    <tr>\n      <th>Name</th>\n      <th></th>\n      <th></th>\n      <th></th>\n      <th></th>\n      <th></th>\n      <th></th>\n      <th></th>\n      <th></th>\n      <th></th>\n      <th></th>\n      <th></th>\n      <th></th>\n      <th></th>\n      <th></th>\n      <th></th>\n      <th></th>\n      <th></th>\n      <th></th>\n      <th></th>\n      <th></th>\n    </tr>\n  </thead>\n  <tbody>\n    <tr>\n      <th>apple</th>\n      <td>132.315247</td>\n      <td>127.633202</td>\n      <td>127.882790</td>\n      <td>129.520004</td>\n      <td>130.210007</td>\n      <td>126.849998</td>\n      <td>125.910004</td>\n      <td>122.769997</td>\n      <td>124.970001</td>\n      <td>127.449997</td>\n      <td>126.269997</td>\n      <td>124.849998</td>\n      <td>124.690002</td>\n      <td>127.309998</td>\n      <td>125.430000</td>\n      <td>127.099998</td>\n      <td>126.900002</td>\n      <td>126.849998</td>\n      <td>125.279999</td>\n      <td>124.610001</td>\n    </tr>\n    <tr>\n      <th>facebook</th>\n      <td>322.579987</td>\n      <td>318.359985</td>\n      <td>315.019989</td>\n      <td>320.019989</td>\n      <td>319.079987</td>\n      <td>305.970001</td>\n      <td>306.529999</td>\n      <td>302.549988</td>\n      <td>305.260010</td>\n      <td>315.940002</td>\n      <td>315.459991</td>\n      <td>309.959991</td>\n      <td>313.589996</td>\n      <td>318.609985</td>\n      <td>316.230011</td>\n      <td>324.630005</td>\n      <td>327.790009</td>\n      <td>327.660004</td>\n      <td>332.750000</td>\n      <td>328.730011</td>\n    </tr>\n    <tr>\n      <th>google</th>\n      <td>2343.080078</td>\n      <td>2306.830078</td>\n      <td>2314.770020</td>\n      <td>2337.350098</td>\n      <td>2351.929932</td>\n      <td>2291.750000</td>\n      <td>2270.060059</td>\n      <td>2200.250000</td>\n      <td>2229.040039</td>\n      <td>2278.379883</td>\n      <td>2288.919922</td>\n      <td>2262.469971</td>\n      <td>2271.500000</td>\n      <td>2306.949951</td>\n      <td>2294.129883</td>\n      <td>2361.040039</td>\n      <td>2362.870117</td>\n      <td>2380.310059</td>\n      <td>2362.679932</td>\n      <td>2356.850098</td>\n    </tr>\n    <tr>\n      <th>microsoft</th>\n      <td>251.279770</td>\n      <td>247.219147</td>\n      <td>245.902191</td>\n      <td>249.154678</td>\n      <td>251.878387</td>\n      <td>246.610550</td>\n      <td>245.662735</td>\n      <td>238.449402</td>\n      <td>242.470108</td>\n      <td>247.578308</td>\n      <td>244.615158</td>\n      <td>242.520004</td>\n      <td>243.119995</td>\n      <td>246.479996</td>\n      <td>245.169998</td>\n      <td>250.779999</td>\n      <td>251.720001</td>\n      <td>251.490005</td>\n      <td>249.309998</td>\n      <td>249.679993</td>\n    </tr>\n    <tr>\n      <th>netflix</th>\n      <td>509.109985</td>\n      <td>503.179993</td>\n      <td>496.079987</td>\n      <td>499.549988</td>\n      <td>503.839996</td>\n      <td>486.690002</td>\n      <td>495.079987</td>\n      <td>484.980011</td>\n      <td>486.660004</td>\n      <td>493.369995</td>\n      <td>488.940002</td>\n      <td>486.279999</td>\n      <td>487.700012</td>\n      <td>501.670013</td>\n      <td>497.890015</td>\n      <td>502.899994</td>\n      <td>501.339996</td>\n      <td>502.359985</td>\n      <td>503.859985</td>\n      <td>502.809998</td>\n    </tr>\n    <tr>\n      <th>amazon</th>\n      <td>3386.489990</td>\n      <td>3311.870117</td>\n      <td>3270.540039</td>\n      <td>3306.370117</td>\n      <td>3291.610107</td>\n      <td>3190.489990</td>\n      <td>3223.909912</td>\n      <td>3151.939941</td>\n      <td>3161.469971</td>\n      <td>3222.899902</td>\n      <td>3270.389893</td>\n      <td>3232.280029</td>\n      <td>3231.800049</td>\n      <td>3247.679932</td>\n      <td>3203.080078</td>\n      <td>3244.989990</td>\n      <td>3259.050049</td>\n      <td>3265.159912</td>\n      <td>3230.110107</td>\n      <td>3223.070068</td>\n    </tr>\n  </tbody>\n</table>\n</div>"
     },
     "execution_count": 23,
     "metadata": {},
     "output_type": "execute_result"
    }
   ],
   "source": [
    "df"
   ],
   "metadata": {
    "collapsed": false,
    "pycharm": {
     "name": "#%%\n"
    }
   }
  },
  {
   "cell_type": "code",
   "execution_count": 24,
   "outputs": [
    {
     "data": {
      "text/plain": "Date      03 May 2021  04 May 2021  05 May 2021  06 May 2021  07 May 2021  \\\nName                                                                        \napple      132.315247   127.633202   127.882790   129.520004   130.210007   \nfacebook   322.579987   318.359985   315.019989   320.019989   319.079987   \n\nDate      10 May 2021  11 May 2021  12 May 2021  13 May 2021  14 May 2021  \\\nName                                                                        \napple      126.849998   125.910004   122.769997   124.970001   127.449997   \nfacebook   305.970001   306.529999   302.549988   305.260010   315.940002   \n\nDate      17 May 2021  18 May 2021  19 May 2021  20 May 2021  21 May 2021  \\\nName                                                                        \napple      126.269997   124.849998   124.690002   127.309998   125.430000   \nfacebook   315.459991   309.959991   313.589996   318.609985   316.230011   \n\nDate      24 May 2021  25 May 2021  26 May 2021  27 May 2021  28 May 2021  \nName                                                                       \napple      127.099998   126.900002   126.849998   125.279999   124.610001  \nfacebook   324.630005   327.790009   327.660004   332.750000   328.730011  ",
      "text/html": "<div>\n<style scoped>\n    .dataframe tbody tr th:only-of-type {\n        vertical-align: middle;\n    }\n\n    .dataframe tbody tr th {\n        vertical-align: top;\n    }\n\n    .dataframe thead th {\n        text-align: right;\n    }\n</style>\n<table border=\"1\" class=\"dataframe\">\n  <thead>\n    <tr style=\"text-align: right;\">\n      <th>Date</th>\n      <th>03 May 2021</th>\n      <th>04 May 2021</th>\n      <th>05 May 2021</th>\n      <th>06 May 2021</th>\n      <th>07 May 2021</th>\n      <th>10 May 2021</th>\n      <th>11 May 2021</th>\n      <th>12 May 2021</th>\n      <th>13 May 2021</th>\n      <th>14 May 2021</th>\n      <th>17 May 2021</th>\n      <th>18 May 2021</th>\n      <th>19 May 2021</th>\n      <th>20 May 2021</th>\n      <th>21 May 2021</th>\n      <th>24 May 2021</th>\n      <th>25 May 2021</th>\n      <th>26 May 2021</th>\n      <th>27 May 2021</th>\n      <th>28 May 2021</th>\n    </tr>\n    <tr>\n      <th>Name</th>\n      <th></th>\n      <th></th>\n      <th></th>\n      <th></th>\n      <th></th>\n      <th></th>\n      <th></th>\n      <th></th>\n      <th></th>\n      <th></th>\n      <th></th>\n      <th></th>\n      <th></th>\n      <th></th>\n      <th></th>\n      <th></th>\n      <th></th>\n      <th></th>\n      <th></th>\n      <th></th>\n    </tr>\n  </thead>\n  <tbody>\n    <tr>\n      <th>apple</th>\n      <td>132.315247</td>\n      <td>127.633202</td>\n      <td>127.882790</td>\n      <td>129.520004</td>\n      <td>130.210007</td>\n      <td>126.849998</td>\n      <td>125.910004</td>\n      <td>122.769997</td>\n      <td>124.970001</td>\n      <td>127.449997</td>\n      <td>126.269997</td>\n      <td>124.849998</td>\n      <td>124.690002</td>\n      <td>127.309998</td>\n      <td>125.430000</td>\n      <td>127.099998</td>\n      <td>126.900002</td>\n      <td>126.849998</td>\n      <td>125.279999</td>\n      <td>124.610001</td>\n    </tr>\n    <tr>\n      <th>facebook</th>\n      <td>322.579987</td>\n      <td>318.359985</td>\n      <td>315.019989</td>\n      <td>320.019989</td>\n      <td>319.079987</td>\n      <td>305.970001</td>\n      <td>306.529999</td>\n      <td>302.549988</td>\n      <td>305.260010</td>\n      <td>315.940002</td>\n      <td>315.459991</td>\n      <td>309.959991</td>\n      <td>313.589996</td>\n      <td>318.609985</td>\n      <td>316.230011</td>\n      <td>324.630005</td>\n      <td>327.790009</td>\n      <td>327.660004</td>\n      <td>332.750000</td>\n      <td>328.730011</td>\n    </tr>\n  </tbody>\n</table>\n</div>"
     },
     "execution_count": 24,
     "metadata": {},
     "output_type": "execute_result"
    }
   ],
   "source": [
    "companies = ['apple','facebook']\n",
    "data = df.loc[companies]\n",
    "data"
   ],
   "metadata": {
    "collapsed": false,
    "pycharm": {
     "name": "#%%\n"
    }
   }
  },
  {
   "cell_type": "code",
   "execution_count": 25,
   "outputs": [
    {
     "data": {
      "text/plain": "Date      03 May 2021  04 May 2021  05 May 2021  06 May 2021  07 May 2021  \\\nName                                                                        \napple      132.315247   127.633202   127.882790   129.520004   130.210007   \nfacebook   322.579987   318.359985   315.019989   320.019989   319.079987   \n\nDate      10 May 2021  11 May 2021  12 May 2021  13 May 2021  14 May 2021  \\\nName                                                                        \napple      126.849998   125.910004   122.769997   124.970001   127.449997   \nfacebook   305.970001   306.529999   302.549988   305.260010   315.940002   \n\nDate      17 May 2021  18 May 2021  19 May 2021  20 May 2021  21 May 2021  \\\nName                                                                        \napple      126.269997   124.849998   124.690002   127.309998   125.430000   \nfacebook   315.459991   309.959991   313.589996   318.609985   316.230011   \n\nDate      24 May 2021  25 May 2021  26 May 2021  27 May 2021  28 May 2021  \nName                                                                       \napple      127.099998   126.900002   126.849998   125.279999   124.610001  \nfacebook   324.630005   327.790009   327.660004   332.750000   328.730011  ",
      "text/html": "<div>\n<style scoped>\n    .dataframe tbody tr th:only-of-type {\n        vertical-align: middle;\n    }\n\n    .dataframe tbody tr th {\n        vertical-align: top;\n    }\n\n    .dataframe thead th {\n        text-align: right;\n    }\n</style>\n<table border=\"1\" class=\"dataframe\">\n  <thead>\n    <tr style=\"text-align: right;\">\n      <th>Date</th>\n      <th>03 May 2021</th>\n      <th>04 May 2021</th>\n      <th>05 May 2021</th>\n      <th>06 May 2021</th>\n      <th>07 May 2021</th>\n      <th>10 May 2021</th>\n      <th>11 May 2021</th>\n      <th>12 May 2021</th>\n      <th>13 May 2021</th>\n      <th>14 May 2021</th>\n      <th>17 May 2021</th>\n      <th>18 May 2021</th>\n      <th>19 May 2021</th>\n      <th>20 May 2021</th>\n      <th>21 May 2021</th>\n      <th>24 May 2021</th>\n      <th>25 May 2021</th>\n      <th>26 May 2021</th>\n      <th>27 May 2021</th>\n      <th>28 May 2021</th>\n    </tr>\n    <tr>\n      <th>Name</th>\n      <th></th>\n      <th></th>\n      <th></th>\n      <th></th>\n      <th></th>\n      <th></th>\n      <th></th>\n      <th></th>\n      <th></th>\n      <th></th>\n      <th></th>\n      <th></th>\n      <th></th>\n      <th></th>\n      <th></th>\n      <th></th>\n      <th></th>\n      <th></th>\n      <th></th>\n      <th></th>\n    </tr>\n  </thead>\n  <tbody>\n    <tr>\n      <th>apple</th>\n      <td>132.315247</td>\n      <td>127.633202</td>\n      <td>127.882790</td>\n      <td>129.520004</td>\n      <td>130.210007</td>\n      <td>126.849998</td>\n      <td>125.910004</td>\n      <td>122.769997</td>\n      <td>124.970001</td>\n      <td>127.449997</td>\n      <td>126.269997</td>\n      <td>124.849998</td>\n      <td>124.690002</td>\n      <td>127.309998</td>\n      <td>125.430000</td>\n      <td>127.099998</td>\n      <td>126.900002</td>\n      <td>126.849998</td>\n      <td>125.279999</td>\n      <td>124.610001</td>\n    </tr>\n    <tr>\n      <th>facebook</th>\n      <td>322.579987</td>\n      <td>318.359985</td>\n      <td>315.019989</td>\n      <td>320.019989</td>\n      <td>319.079987</td>\n      <td>305.970001</td>\n      <td>306.529999</td>\n      <td>302.549988</td>\n      <td>305.260010</td>\n      <td>315.940002</td>\n      <td>315.459991</td>\n      <td>309.959991</td>\n      <td>313.589996</td>\n      <td>318.609985</td>\n      <td>316.230011</td>\n      <td>324.630005</td>\n      <td>327.790009</td>\n      <td>327.660004</td>\n      <td>332.750000</td>\n      <td>328.730011</td>\n    </tr>\n  </tbody>\n</table>\n</div>"
     },
     "execution_count": 25,
     "metadata": {},
     "output_type": "execute_result"
    }
   ],
   "source": [
    "data.sort_index()"
   ],
   "metadata": {
    "collapsed": false,
    "pycharm": {
     "name": "#%%\n"
    }
   }
  },
  {
   "cell_type": "code",
   "execution_count": 26,
   "outputs": [
    {
     "data": {
      "text/plain": "Name         Date       apple    facebook\n0     03 May 2021  132.315247  322.579987\n1     04 May 2021  127.633202  318.359985\n2     05 May 2021  127.882790  315.019989\n3     06 May 2021  129.520004  320.019989\n4     07 May 2021  130.210007  319.079987",
      "text/html": "<div>\n<style scoped>\n    .dataframe tbody tr th:only-of-type {\n        vertical-align: middle;\n    }\n\n    .dataframe tbody tr th {\n        vertical-align: top;\n    }\n\n    .dataframe thead th {\n        text-align: right;\n    }\n</style>\n<table border=\"1\" class=\"dataframe\">\n  <thead>\n    <tr style=\"text-align: right;\">\n      <th>Name</th>\n      <th>Date</th>\n      <th>apple</th>\n      <th>facebook</th>\n    </tr>\n  </thead>\n  <tbody>\n    <tr>\n      <th>0</th>\n      <td>03 May 2021</td>\n      <td>132.315247</td>\n      <td>322.579987</td>\n    </tr>\n    <tr>\n      <th>1</th>\n      <td>04 May 2021</td>\n      <td>127.633202</td>\n      <td>318.359985</td>\n    </tr>\n    <tr>\n      <th>2</th>\n      <td>05 May 2021</td>\n      <td>127.882790</td>\n      <td>315.019989</td>\n    </tr>\n    <tr>\n      <th>3</th>\n      <td>06 May 2021</td>\n      <td>129.520004</td>\n      <td>320.019989</td>\n    </tr>\n    <tr>\n      <th>4</th>\n      <td>07 May 2021</td>\n      <td>130.210007</td>\n      <td>319.079987</td>\n    </tr>\n  </tbody>\n</table>\n</div>"
     },
     "execution_count": 26,
     "metadata": {},
     "output_type": "execute_result"
    }
   ],
   "source": [
    "data = data.T.reset_index()\n",
    "data.head()"
   ],
   "metadata": {
    "collapsed": false,
    "pycharm": {
     "name": "#%%\n"
    }
   }
  },
  {
   "cell_type": "code",
   "execution_count": 27,
   "outputs": [
    {
     "data": {
      "text/plain": "           Date      Name  Stock Prices(USD)\n0   03 May 2021     apple         132.315247\n1   04 May 2021     apple         127.633202\n2   05 May 2021     apple         127.882790\n3   06 May 2021     apple         129.520004\n4   07 May 2021     apple         130.210007\n5   10 May 2021     apple         126.849998\n6   11 May 2021     apple         125.910004\n7   12 May 2021     apple         122.769997\n8   13 May 2021     apple         124.970001\n9   14 May 2021     apple         127.449997\n10  17 May 2021     apple         126.269997\n11  18 May 2021     apple         124.849998\n12  19 May 2021     apple         124.690002\n13  20 May 2021     apple         127.309998\n14  21 May 2021     apple         125.430000\n15  24 May 2021     apple         127.099998\n16  25 May 2021     apple         126.900002\n17  26 May 2021     apple         126.849998\n18  27 May 2021     apple         125.279999\n19  28 May 2021     apple         124.610001\n20  03 May 2021  facebook         322.579987\n21  04 May 2021  facebook         318.359985\n22  05 May 2021  facebook         315.019989\n23  06 May 2021  facebook         320.019989\n24  07 May 2021  facebook         319.079987\n25  10 May 2021  facebook         305.970001\n26  11 May 2021  facebook         306.529999\n27  12 May 2021  facebook         302.549988\n28  13 May 2021  facebook         305.260010\n29  14 May 2021  facebook         315.940002\n30  17 May 2021  facebook         315.459991\n31  18 May 2021  facebook         309.959991\n32  19 May 2021  facebook         313.589996\n33  20 May 2021  facebook         318.609985\n34  21 May 2021  facebook         316.230011\n35  24 May 2021  facebook         324.630005\n36  25 May 2021  facebook         327.790009\n37  26 May 2021  facebook         327.660004\n38  27 May 2021  facebook         332.750000\n39  28 May 2021  facebook         328.730011",
      "text/html": "<div>\n<style scoped>\n    .dataframe tbody tr th:only-of-type {\n        vertical-align: middle;\n    }\n\n    .dataframe tbody tr th {\n        vertical-align: top;\n    }\n\n    .dataframe thead th {\n        text-align: right;\n    }\n</style>\n<table border=\"1\" class=\"dataframe\">\n  <thead>\n    <tr style=\"text-align: right;\">\n      <th></th>\n      <th>Date</th>\n      <th>Name</th>\n      <th>Stock Prices(USD)</th>\n    </tr>\n  </thead>\n  <tbody>\n    <tr>\n      <th>0</th>\n      <td>03 May 2021</td>\n      <td>apple</td>\n      <td>132.315247</td>\n    </tr>\n    <tr>\n      <th>1</th>\n      <td>04 May 2021</td>\n      <td>apple</td>\n      <td>127.633202</td>\n    </tr>\n    <tr>\n      <th>2</th>\n      <td>05 May 2021</td>\n      <td>apple</td>\n      <td>127.882790</td>\n    </tr>\n    <tr>\n      <th>3</th>\n      <td>06 May 2021</td>\n      <td>apple</td>\n      <td>129.520004</td>\n    </tr>\n    <tr>\n      <th>4</th>\n      <td>07 May 2021</td>\n      <td>apple</td>\n      <td>130.210007</td>\n    </tr>\n    <tr>\n      <th>5</th>\n      <td>10 May 2021</td>\n      <td>apple</td>\n      <td>126.849998</td>\n    </tr>\n    <tr>\n      <th>6</th>\n      <td>11 May 2021</td>\n      <td>apple</td>\n      <td>125.910004</td>\n    </tr>\n    <tr>\n      <th>7</th>\n      <td>12 May 2021</td>\n      <td>apple</td>\n      <td>122.769997</td>\n    </tr>\n    <tr>\n      <th>8</th>\n      <td>13 May 2021</td>\n      <td>apple</td>\n      <td>124.970001</td>\n    </tr>\n    <tr>\n      <th>9</th>\n      <td>14 May 2021</td>\n      <td>apple</td>\n      <td>127.449997</td>\n    </tr>\n    <tr>\n      <th>10</th>\n      <td>17 May 2021</td>\n      <td>apple</td>\n      <td>126.269997</td>\n    </tr>\n    <tr>\n      <th>11</th>\n      <td>18 May 2021</td>\n      <td>apple</td>\n      <td>124.849998</td>\n    </tr>\n    <tr>\n      <th>12</th>\n      <td>19 May 2021</td>\n      <td>apple</td>\n      <td>124.690002</td>\n    </tr>\n    <tr>\n      <th>13</th>\n      <td>20 May 2021</td>\n      <td>apple</td>\n      <td>127.309998</td>\n    </tr>\n    <tr>\n      <th>14</th>\n      <td>21 May 2021</td>\n      <td>apple</td>\n      <td>125.430000</td>\n    </tr>\n    <tr>\n      <th>15</th>\n      <td>24 May 2021</td>\n      <td>apple</td>\n      <td>127.099998</td>\n    </tr>\n    <tr>\n      <th>16</th>\n      <td>25 May 2021</td>\n      <td>apple</td>\n      <td>126.900002</td>\n    </tr>\n    <tr>\n      <th>17</th>\n      <td>26 May 2021</td>\n      <td>apple</td>\n      <td>126.849998</td>\n    </tr>\n    <tr>\n      <th>18</th>\n      <td>27 May 2021</td>\n      <td>apple</td>\n      <td>125.279999</td>\n    </tr>\n    <tr>\n      <th>19</th>\n      <td>28 May 2021</td>\n      <td>apple</td>\n      <td>124.610001</td>\n    </tr>\n    <tr>\n      <th>20</th>\n      <td>03 May 2021</td>\n      <td>facebook</td>\n      <td>322.579987</td>\n    </tr>\n    <tr>\n      <th>21</th>\n      <td>04 May 2021</td>\n      <td>facebook</td>\n      <td>318.359985</td>\n    </tr>\n    <tr>\n      <th>22</th>\n      <td>05 May 2021</td>\n      <td>facebook</td>\n      <td>315.019989</td>\n    </tr>\n    <tr>\n      <th>23</th>\n      <td>06 May 2021</td>\n      <td>facebook</td>\n      <td>320.019989</td>\n    </tr>\n    <tr>\n      <th>24</th>\n      <td>07 May 2021</td>\n      <td>facebook</td>\n      <td>319.079987</td>\n    </tr>\n    <tr>\n      <th>25</th>\n      <td>10 May 2021</td>\n      <td>facebook</td>\n      <td>305.970001</td>\n    </tr>\n    <tr>\n      <th>26</th>\n      <td>11 May 2021</td>\n      <td>facebook</td>\n      <td>306.529999</td>\n    </tr>\n    <tr>\n      <th>27</th>\n      <td>12 May 2021</td>\n      <td>facebook</td>\n      <td>302.549988</td>\n    </tr>\n    <tr>\n      <th>28</th>\n      <td>13 May 2021</td>\n      <td>facebook</td>\n      <td>305.260010</td>\n    </tr>\n    <tr>\n      <th>29</th>\n      <td>14 May 2021</td>\n      <td>facebook</td>\n      <td>315.940002</td>\n    </tr>\n    <tr>\n      <th>30</th>\n      <td>17 May 2021</td>\n      <td>facebook</td>\n      <td>315.459991</td>\n    </tr>\n    <tr>\n      <th>31</th>\n      <td>18 May 2021</td>\n      <td>facebook</td>\n      <td>309.959991</td>\n    </tr>\n    <tr>\n      <th>32</th>\n      <td>19 May 2021</td>\n      <td>facebook</td>\n      <td>313.589996</td>\n    </tr>\n    <tr>\n      <th>33</th>\n      <td>20 May 2021</td>\n      <td>facebook</td>\n      <td>318.609985</td>\n    </tr>\n    <tr>\n      <th>34</th>\n      <td>21 May 2021</td>\n      <td>facebook</td>\n      <td>316.230011</td>\n    </tr>\n    <tr>\n      <th>35</th>\n      <td>24 May 2021</td>\n      <td>facebook</td>\n      <td>324.630005</td>\n    </tr>\n    <tr>\n      <th>36</th>\n      <td>25 May 2021</td>\n      <td>facebook</td>\n      <td>327.790009</td>\n    </tr>\n    <tr>\n      <th>37</th>\n      <td>26 May 2021</td>\n      <td>facebook</td>\n      <td>327.660004</td>\n    </tr>\n    <tr>\n      <th>38</th>\n      <td>27 May 2021</td>\n      <td>facebook</td>\n      <td>332.750000</td>\n    </tr>\n    <tr>\n      <th>39</th>\n      <td>28 May 2021</td>\n      <td>facebook</td>\n      <td>328.730011</td>\n    </tr>\n  </tbody>\n</table>\n</div>"
     },
     "execution_count": 27,
     "metadata": {},
     "output_type": "execute_result"
    }
   ],
   "source": [
    "data = pd.melt(data,id_vars=['Date']).rename(\n",
    "    columns={'value':'Stock Prices(USD)'}\n",
    ")\n",
    "data"
   ],
   "metadata": {
    "collapsed": false,
    "pycharm": {
     "name": "#%%\n"
    }
   }
  },
  {
   "cell_type": "code",
   "execution_count": 56,
   "outputs": [],
   "source": [
    "ymin,ymax = 300,350\n",
    "\n",
    "chart = (\n",
    "    alt.Chart(data).mark_line(opacity=0.8,clip=True).encode(\n",
    "        x='Date:T',\n",
    "        y=alt.Y('Stock Prices(USD):Q',stack=None, scale=alt.Scale(domain=[ymin,ymax])),\n",
    "        color='Name:N'\n",
    "    )\n",
    ")"
   ],
   "metadata": {
    "collapsed": false,
    "pycharm": {
     "name": "#%%\n"
    }
   }
  },
  {
   "cell_type": "code",
   "execution_count": 57,
   "outputs": [
    {
     "data": {
      "text/plain": "Displaying chart at http://localhost:18117/",
      "text/html": "Displaying chart at <a href='http://localhost:18117/' target='_blank'>http://localhost:18117/</a>"
     },
     "execution_count": 57,
     "metadata": {},
     "output_type": "execute_result"
    }
   ],
   "source": [
    "chart"
   ],
   "metadata": {
    "collapsed": false,
    "pycharm": {
     "name": "#%%\n"
    }
   }
  },
  {
   "cell_type": "code",
   "execution_count": null,
   "outputs": [],
   "source": [],
   "metadata": {
    "collapsed": false,
    "pycharm": {
     "name": "#%%\n"
    }
   }
  }
 ],
 "metadata": {
  "kernelspec": {
   "display_name": "Python 3",
   "language": "python",
   "name": "python3"
  },
  "language_info": {
   "codemirror_mode": {
    "name": "ipython",
    "version": 2
   },
   "file_extension": ".py",
   "mimetype": "text/x-python",
   "name": "python",
   "nbconvert_exporter": "python",
   "pygments_lexer": "ipython2",
   "version": "2.7.6"
  }
 },
 "nbformat": 4,
 "nbformat_minor": 0
}